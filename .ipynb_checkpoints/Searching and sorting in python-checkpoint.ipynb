{
 "cells": [
  {
   "cell_type": "markdown",
   "metadata": {},
   "source": [
    "# Linear Search"
   ]
  },
  {
   "cell_type": "code",
   "execution_count": null,
   "metadata": {},
   "outputs": [],
   "source": [
    "a=list(map(int,input(\"enter list element\").split()));\n",
    "s=int(input(\"enter searching element::\"))\n",
    "c=0\n",
    "for i in range(len(a)):\n",
    "    if(s==a[i]):\n",
    "        print(\"Found\")\n",
    "        c=1\n",
    "        break \n",
    "if(c==0):\n",
    "    print(\"element is not present in given list\")"
   ]
  },
  {
   "cell_type": "markdown",
   "metadata": {},
   "source": [
    "# Binary Search"
   ]
  },
  {
   "cell_type": "code",
   "execution_count": null,
   "metadata": {},
   "outputs": [],
   "source": [
    "a=list(map(int,input(\"enter array element::\").split()))\n",
    "a.sort()\n",
    "s=int(input(\"enter searching element::\"))\n",
    "l=0\n",
    "h=len(a)-1\n",
    "c=0\n",
    "while(l<=h):\n",
    "    mid=(l+h)//2\n",
    "    if(a[mid]==s):\n",
    "        c=1\n",
    "        break\n",
    "        \n",
    "    elif(a[mid]<s):\n",
    "        l=mid+1\n",
    "    else:\n",
    "        h=mid-1\n",
    "if(c==0):\n",
    "    print(\"eement not found\")"
   ]
  },
  {
   "cell_type": "markdown",
   "metadata": {},
   "source": [
    "# Bubble sort"
   ]
  },
  {
   "cell_type": "code",
   "execution_count": null,
   "metadata": {},
   "outputs": [],
   "source": [
    "a=list(map(int,input(\"******enter array element****\").split()))\n",
    "for i in range(len(a)-1):\n",
    "    for j in range(len(a)-1-i):\n",
    "        if(a[j]>a[j+1]):\n",
    "            temp=a[j]\n",
    "            a[j]=a[j+1]\n",
    "            a[j+1]=temp\n",
    "print(*a)           "
   ]
  },
  {
   "cell_type": "markdown",
   "metadata": {},
   "source": [
    "# Selection Sort"
   ]
  },
  {
   "cell_type": "code",
   "execution_count": null,
   "metadata": {},
   "outputs": [],
   "source": [
    "a=list(map(int,input(\"enter array element::\").split()))\n",
    "for i in range(len(a)-1):\n",
    "    mine=i\n",
    "    for j in range(i,len(a)-1):\n",
    "        if(a[j]>a[j+1]):\n",
    "            mine=j+1\n",
    "    temp=a[mine]\n",
    "    a[mine]=a[i]\n",
    "    a[i]=temp\n",
    "print(a)    \n",
    "            "
   ]
  },
  {
   "cell_type": "markdown",
   "metadata": {},
   "source": [
    "# Insertion Sort"
   ]
  },
  {
   "cell_type": "code",
   "execution_count": null,
   "metadata": {},
   "outputs": [],
   "source": [
    "a=list(map(int,input().split()))\n",
    "for i in range(1,len(a)):\n",
    "    h=i-1\n",
    "    temp=a[i]\n",
    "    while(h>=0 and temp<a[h]):\n",
    "        a[h+1]=a[h]\n",
    "        h-=1\n",
    "    a[h+1]=temp  \n",
    "print(a)    "
   ]
  }
 ],
 "metadata": {
  "kernelspec": {
   "display_name": "Python 3",
   "language": "python",
   "name": "python3"
  },
  "language_info": {
   "codemirror_mode": {
    "name": "ipython",
    "version": 3
   },
   "file_extension": ".py",
   "mimetype": "text/x-python",
   "name": "python",
   "nbconvert_exporter": "python",
   "pygments_lexer": "ipython3",
   "version": "3.7.4"
  }
 },
 "nbformat": 4,
 "nbformat_minor": 2
}
